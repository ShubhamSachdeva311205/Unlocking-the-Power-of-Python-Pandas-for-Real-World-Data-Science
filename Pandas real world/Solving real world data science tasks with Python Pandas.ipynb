{
 "cells": [
  {
   "cell_type": "code",
   "execution_count": 1,
   "id": "fae8e9a4-bac1-466a-85b2-8bc2c7b0a5b0",
   "metadata": {},
   "outputs": [],
   "source": [
    "import pandas as pd\n",
    "import matplotlib.pyplot as plt\n",
    "import os"
   ]
  },
  {
   "cell_type": "markdown",
   "id": "37164bf2-e6e5-42c7-bc60-899a63123ef0",
   "metadata": {},
   "source": [
    "#### MERGING 12 MONTHS OF DATA INTO A SINGLE FILE"
   ]
  },
  {
   "cell_type": "code",
   "execution_count": 2,
   "id": "cc1861ee-a90b-4adb-ba0c-af9604484202",
   "metadata": {},
   "outputs": [
    {
     "data": {
      "text/plain": [
       "\"files = [file for file in os.listdir('Data/SalesAnalysis/Sales_Data')]\\n\\nall_months_df = pd.DataFrame()\\n\\nfor file in files:\\n    df = pd.read_csv('Data/SalesAnalysis/Sales_Data/' + file)\\n    all_months_df = pd.concat([all_months_df, df])\\n\\nall_months_df.head(10000)\\n\\nall_months_df.to_csv('all_data.csv', index = False)\""
      ]
     },
     "execution_count": 2,
     "metadata": {},
     "output_type": "execute_result"
    }
   ],
   "source": [
    "'''files = [file for file in os.listdir('Data/SalesAnalysis/Sales_Data')]\n",
    "\n",
    "all_months_df = pd.DataFrame()\n",
    "\n",
    "for file in files:\n",
    "    df = pd.read_csv('Data/SalesAnalysis/Sales_Data/' + file)\n",
    "    all_months_df = pd.concat([all_months_df, df])\n",
    "\n",
    "all_months_df.head(10000)\n",
    "\n",
    "all_months_df.to_csv('all_data.csv', index = False)'''"
   ]
  },
  {
   "cell_type": "code",
   "execution_count": 3,
   "id": "ff45a9c7-d1da-40a1-bd82-921fcc3c3bf0",
   "metadata": {},
   "outputs": [],
   "source": [
    "all_data = pd.read_csv('Data/all_data.csv')"
   ]
  },
  {
   "cell_type": "markdown",
   "id": "852f3e7f-dc58-43b5-ba8e-a5869ed8a67c",
   "metadata": {},
   "source": [
    "#### CLEANING THE DATA"
   ]
  },
  {
   "cell_type": "code",
   "execution_count": 4,
   "id": "71d3cd18-822d-4ae7-95ac-d4de312a35f7",
   "metadata": {},
   "outputs": [
    {
     "data": {
      "text/html": [
       "<div>\n",
       "<style scoped>\n",
       "    .dataframe tbody tr th:only-of-type {\n",
       "        vertical-align: middle;\n",
       "    }\n",
       "\n",
       "    .dataframe tbody tr th {\n",
       "        vertical-align: top;\n",
       "    }\n",
       "\n",
       "    .dataframe thead th {\n",
       "        text-align: right;\n",
       "    }\n",
       "</style>\n",
       "<table border=\"1\" class=\"dataframe\">\n",
       "  <thead>\n",
       "    <tr style=\"text-align: right;\">\n",
       "      <th></th>\n",
       "      <th>Order ID</th>\n",
       "      <th>Product</th>\n",
       "      <th>Quantity Ordered</th>\n",
       "      <th>Price Each</th>\n",
       "      <th>Order Date</th>\n",
       "      <th>Purchase Address</th>\n",
       "    </tr>\n",
       "  </thead>\n",
       "  <tbody>\n",
       "    <tr>\n",
       "      <th>0</th>\n",
       "      <td>295665</td>\n",
       "      <td>Macbook Pro Laptop</td>\n",
       "      <td>1</td>\n",
       "      <td>1700</td>\n",
       "      <td>12/30/19 00:01</td>\n",
       "      <td>136 Church St, New York City, NY 10001</td>\n",
       "    </tr>\n",
       "    <tr>\n",
       "      <th>1</th>\n",
       "      <td>295666</td>\n",
       "      <td>LG Washing Machine</td>\n",
       "      <td>1</td>\n",
       "      <td>600.0</td>\n",
       "      <td>12/29/19 07:03</td>\n",
       "      <td>562 2nd St, New York City, NY 10001</td>\n",
       "    </tr>\n",
       "    <tr>\n",
       "      <th>2</th>\n",
       "      <td>295667</td>\n",
       "      <td>USB-C Charging Cable</td>\n",
       "      <td>1</td>\n",
       "      <td>11.95</td>\n",
       "      <td>12/12/19 18:21</td>\n",
       "      <td>277 Main St, New York City, NY 10001</td>\n",
       "    </tr>\n",
       "    <tr>\n",
       "      <th>3</th>\n",
       "      <td>295668</td>\n",
       "      <td>27in FHD Monitor</td>\n",
       "      <td>1</td>\n",
       "      <td>149.99</td>\n",
       "      <td>12/22/19 15:13</td>\n",
       "      <td>410 6th St, San Francisco, CA 94016</td>\n",
       "    </tr>\n",
       "    <tr>\n",
       "      <th>4</th>\n",
       "      <td>295669</td>\n",
       "      <td>USB-C Charging Cable</td>\n",
       "      <td>1</td>\n",
       "      <td>11.95</td>\n",
       "      <td>12/18/19 12:38</td>\n",
       "      <td>43 Hill St, Atlanta, GA 30301</td>\n",
       "    </tr>\n",
       "    <tr>\n",
       "      <th>...</th>\n",
       "      <td>...</td>\n",
       "      <td>...</td>\n",
       "      <td>...</td>\n",
       "      <td>...</td>\n",
       "      <td>...</td>\n",
       "      <td>...</td>\n",
       "    </tr>\n",
       "    <tr>\n",
       "      <th>260</th>\n",
       "      <td>295907</td>\n",
       "      <td>AA Batteries (4-pack)</td>\n",
       "      <td>2</td>\n",
       "      <td>3.84</td>\n",
       "      <td>12/18/19 08:43</td>\n",
       "      <td>672 Dogwood St, Austin, TX 73301</td>\n",
       "    </tr>\n",
       "    <tr>\n",
       "      <th>261</th>\n",
       "      <td>295908</td>\n",
       "      <td>20in Monitor</td>\n",
       "      <td>1</td>\n",
       "      <td>109.99</td>\n",
       "      <td>12/17/19 10:28</td>\n",
       "      <td>342 Adams St, New York City, NY 10001</td>\n",
       "    </tr>\n",
       "    <tr>\n",
       "      <th>262</th>\n",
       "      <td>295909</td>\n",
       "      <td>AA Batteries (4-pack)</td>\n",
       "      <td>1</td>\n",
       "      <td>3.84</td>\n",
       "      <td>12/27/19 17:29</td>\n",
       "      <td>360 Wilson St, Boston, MA 02215</td>\n",
       "    </tr>\n",
       "    <tr>\n",
       "      <th>263</th>\n",
       "      <td>295910</td>\n",
       "      <td>Lightning Charging Cable</td>\n",
       "      <td>1</td>\n",
       "      <td>14.95</td>\n",
       "      <td>12/27/19 22:46</td>\n",
       "      <td>6 Wilson St, Seattle, WA 98101</td>\n",
       "    </tr>\n",
       "    <tr>\n",
       "      <th>265</th>\n",
       "      <td>295911</td>\n",
       "      <td>Apple Airpods Headphones</td>\n",
       "      <td>1</td>\n",
       "      <td>150</td>\n",
       "      <td>12/10/19 22:14</td>\n",
       "      <td>152 Spruce St, Los Angeles, CA 90001</td>\n",
       "    </tr>\n",
       "  </tbody>\n",
       "</table>\n",
       "<p>265 rows × 6 columns</p>\n",
       "</div>"
      ],
      "text/plain": [
       "    Order ID                   Product Quantity Ordered Price Each  \\\n",
       "0     295665        Macbook Pro Laptop                1       1700   \n",
       "1     295666        LG Washing Machine                1      600.0   \n",
       "2     295667      USB-C Charging Cable                1      11.95   \n",
       "3     295668          27in FHD Monitor                1     149.99   \n",
       "4     295669      USB-C Charging Cable                1      11.95   \n",
       "..       ...                       ...              ...        ...   \n",
       "260   295907     AA Batteries (4-pack)                2       3.84   \n",
       "261   295908              20in Monitor                1     109.99   \n",
       "262   295909     AA Batteries (4-pack)                1       3.84   \n",
       "263   295910  Lightning Charging Cable                1      14.95   \n",
       "265   295911  Apple Airpods Headphones                1        150   \n",
       "\n",
       "         Order Date                        Purchase Address  \n",
       "0    12/30/19 00:01  136 Church St, New York City, NY 10001  \n",
       "1    12/29/19 07:03     562 2nd St, New York City, NY 10001  \n",
       "2    12/12/19 18:21    277 Main St, New York City, NY 10001  \n",
       "3    12/22/19 15:13     410 6th St, San Francisco, CA 94016  \n",
       "4    12/18/19 12:38           43 Hill St, Atlanta, GA 30301  \n",
       "..              ...                                     ...  \n",
       "260  12/18/19 08:43        672 Dogwood St, Austin, TX 73301  \n",
       "261  12/17/19 10:28   342 Adams St, New York City, NY 10001  \n",
       "262  12/27/19 17:29         360 Wilson St, Boston, MA 02215  \n",
       "263  12/27/19 22:46          6 Wilson St, Seattle, WA 98101  \n",
       "265  12/10/19 22:14    152 Spruce St, Los Angeles, CA 90001  \n",
       "\n",
       "[265 rows x 6 columns]"
      ]
     },
     "execution_count": 4,
     "metadata": {},
     "output_type": "execute_result"
    }
   ],
   "source": [
    "filt = all_data.isna().any(axis=1)\n",
    "nan_df = all_data[filt]\n",
    "nan_df\n",
    "\n",
    "\n",
    "all_data = all_data.dropna(how = 'any')\n",
    "\n",
    "all_data.head(265)"
   ]
  },
  {
   "cell_type": "markdown",
   "id": "4730a858-c62d-4422-8d5e-c18e5bbe536a",
   "metadata": {},
   "source": [
    "#### FIND 'OR' VALUES AND DELETE IT"
   ]
  },
  {
   "cell_type": "code",
   "execution_count": 5,
   "id": "f61b0a1a-ba13-49b0-86db-cae0fec54bb4",
   "metadata": {},
   "outputs": [
    {
     "data": {
      "text/plain": [
       "\"filt1 = all_data['Order Date'].str[0:2]=='Or'\\ntemp_df = all_data[filt1]\\ntemp_df.head()\""
      ]
     },
     "execution_count": 5,
     "metadata": {},
     "output_type": "execute_result"
    }
   ],
   "source": [
    "'''filt1 = all_data['Order Date'].str[0:2]=='Or'\n",
    "temp_df = all_data[filt1]\n",
    "temp_df.head()'''"
   ]
  },
  {
   "cell_type": "code",
   "execution_count": 6,
   "id": "72a5dedf-c955-4b67-a460-14cac1041471",
   "metadata": {},
   "outputs": [
    {
     "data": {
      "text/html": [
       "<div>\n",
       "<style scoped>\n",
       "    .dataframe tbody tr th:only-of-type {\n",
       "        vertical-align: middle;\n",
       "    }\n",
       "\n",
       "    .dataframe tbody tr th {\n",
       "        vertical-align: top;\n",
       "    }\n",
       "\n",
       "    .dataframe thead th {\n",
       "        text-align: right;\n",
       "    }\n",
       "</style>\n",
       "<table border=\"1\" class=\"dataframe\">\n",
       "  <thead>\n",
       "    <tr style=\"text-align: right;\">\n",
       "      <th></th>\n",
       "      <th>Order ID</th>\n",
       "      <th>Product</th>\n",
       "      <th>Quantity Ordered</th>\n",
       "      <th>Price Each</th>\n",
       "      <th>Order Date</th>\n",
       "      <th>Purchase Address</th>\n",
       "    </tr>\n",
       "  </thead>\n",
       "  <tbody>\n",
       "    <tr>\n",
       "      <th>0</th>\n",
       "      <td>295665</td>\n",
       "      <td>Macbook Pro Laptop</td>\n",
       "      <td>1</td>\n",
       "      <td>1700</td>\n",
       "      <td>12/30/19 00:01</td>\n",
       "      <td>136 Church St, New York City, NY 10001</td>\n",
       "    </tr>\n",
       "    <tr>\n",
       "      <th>1</th>\n",
       "      <td>295666</td>\n",
       "      <td>LG Washing Machine</td>\n",
       "      <td>1</td>\n",
       "      <td>600.0</td>\n",
       "      <td>12/29/19 07:03</td>\n",
       "      <td>562 2nd St, New York City, NY 10001</td>\n",
       "    </tr>\n",
       "    <tr>\n",
       "      <th>2</th>\n",
       "      <td>295667</td>\n",
       "      <td>USB-C Charging Cable</td>\n",
       "      <td>1</td>\n",
       "      <td>11.95</td>\n",
       "      <td>12/12/19 18:21</td>\n",
       "      <td>277 Main St, New York City, NY 10001</td>\n",
       "    </tr>\n",
       "    <tr>\n",
       "      <th>3</th>\n",
       "      <td>295668</td>\n",
       "      <td>27in FHD Monitor</td>\n",
       "      <td>1</td>\n",
       "      <td>149.99</td>\n",
       "      <td>12/22/19 15:13</td>\n",
       "      <td>410 6th St, San Francisco, CA 94016</td>\n",
       "    </tr>\n",
       "    <tr>\n",
       "      <th>4</th>\n",
       "      <td>295669</td>\n",
       "      <td>USB-C Charging Cable</td>\n",
       "      <td>1</td>\n",
       "      <td>11.95</td>\n",
       "      <td>12/18/19 12:38</td>\n",
       "      <td>43 Hill St, Atlanta, GA 30301</td>\n",
       "    </tr>\n",
       "    <tr>\n",
       "      <th>...</th>\n",
       "      <td>...</td>\n",
       "      <td>...</td>\n",
       "      <td>...</td>\n",
       "      <td>...</td>\n",
       "      <td>...</td>\n",
       "      <td>...</td>\n",
       "    </tr>\n",
       "    <tr>\n",
       "      <th>250</th>\n",
       "      <td>295898</td>\n",
       "      <td>AA Batteries (4-pack)</td>\n",
       "      <td>1</td>\n",
       "      <td>3.84</td>\n",
       "      <td>12/21/19 11:28</td>\n",
       "      <td>375 Spruce St, San Francisco, CA 94016</td>\n",
       "    </tr>\n",
       "    <tr>\n",
       "      <th>251</th>\n",
       "      <td>295899</td>\n",
       "      <td>USB-C Charging Cable</td>\n",
       "      <td>1</td>\n",
       "      <td>11.95</td>\n",
       "      <td>12/13/19 16:44</td>\n",
       "      <td>722 Spruce St, Seattle, WA 98101</td>\n",
       "    </tr>\n",
       "    <tr>\n",
       "      <th>252</th>\n",
       "      <td>295900</td>\n",
       "      <td>AA Batteries (4-pack)</td>\n",
       "      <td>1</td>\n",
       "      <td>3.84</td>\n",
       "      <td>12/27/19 18:56</td>\n",
       "      <td>283 Washington St, Boston, MA 02215</td>\n",
       "    </tr>\n",
       "    <tr>\n",
       "      <th>253</th>\n",
       "      <td>295901</td>\n",
       "      <td>20in Monitor</td>\n",
       "      <td>1</td>\n",
       "      <td>109.99</td>\n",
       "      <td>12/05/19 20:02</td>\n",
       "      <td>67 12th St, San Francisco, CA 94016</td>\n",
       "    </tr>\n",
       "    <tr>\n",
       "      <th>255</th>\n",
       "      <td>295902</td>\n",
       "      <td>AA Batteries (4-pack)</td>\n",
       "      <td>2</td>\n",
       "      <td>3.84</td>\n",
       "      <td>12/26/19 21:54</td>\n",
       "      <td>160 Maple St, Austin, TX 73301</td>\n",
       "    </tr>\n",
       "  </tbody>\n",
       "</table>\n",
       "<p>255 rows × 6 columns</p>\n",
       "</div>"
      ],
      "text/plain": [
       "    Order ID                Product Quantity Ordered Price Each  \\\n",
       "0     295665     Macbook Pro Laptop                1       1700   \n",
       "1     295666     LG Washing Machine                1      600.0   \n",
       "2     295667   USB-C Charging Cable                1      11.95   \n",
       "3     295668       27in FHD Monitor                1     149.99   \n",
       "4     295669   USB-C Charging Cable                1      11.95   \n",
       "..       ...                    ...              ...        ...   \n",
       "250   295898  AA Batteries (4-pack)                1       3.84   \n",
       "251   295899   USB-C Charging Cable                1      11.95   \n",
       "252   295900  AA Batteries (4-pack)                1       3.84   \n",
       "253   295901           20in Monitor                1     109.99   \n",
       "255   295902  AA Batteries (4-pack)                2       3.84   \n",
       "\n",
       "         Order Date                        Purchase Address  \n",
       "0    12/30/19 00:01  136 Church St, New York City, NY 10001  \n",
       "1    12/29/19 07:03     562 2nd St, New York City, NY 10001  \n",
       "2    12/12/19 18:21    277 Main St, New York City, NY 10001  \n",
       "3    12/22/19 15:13     410 6th St, San Francisco, CA 94016  \n",
       "4    12/18/19 12:38           43 Hill St, Atlanta, GA 30301  \n",
       "..              ...                                     ...  \n",
       "250  12/21/19 11:28  375 Spruce St, San Francisco, CA 94016  \n",
       "251  12/13/19 16:44        722 Spruce St, Seattle, WA 98101  \n",
       "252  12/27/19 18:56     283 Washington St, Boston, MA 02215  \n",
       "253  12/05/19 20:02     67 12th St, San Francisco, CA 94016  \n",
       "255  12/26/19 21:54          160 Maple St, Austin, TX 73301  \n",
       "\n",
       "[255 rows x 6 columns]"
      ]
     },
     "execution_count": 6,
     "metadata": {},
     "output_type": "execute_result"
    }
   ],
   "source": [
    "all_data = all_data[all_data['Order Date'].str[0:2]!='Or']\n",
    "all_data.head(255)"
   ]
  },
  {
   "cell_type": "markdown",
   "id": "0106ebea-4def-4003-9950-d5cc598cf1e1",
   "metadata": {},
   "source": [
    "#### ADD MONTH COLUMN (HAS 2 ISSUES)\n",
    "1.) THE DATA HAS NAN VALUES AND \n",
    "2.) THE DATA HAS STRING VALUES"
   ]
  },
  {
   "cell_type": "code",
   "execution_count": 7,
   "id": "92054197-6fe0-48d7-9782-4f2851a204d2",
   "metadata": {},
   "outputs": [
    {
     "data": {
      "text/html": [
       "<div>\n",
       "<style scoped>\n",
       "    .dataframe tbody tr th:only-of-type {\n",
       "        vertical-align: middle;\n",
       "    }\n",
       "\n",
       "    .dataframe tbody tr th {\n",
       "        vertical-align: top;\n",
       "    }\n",
       "\n",
       "    .dataframe thead th {\n",
       "        text-align: right;\n",
       "    }\n",
       "</style>\n",
       "<table border=\"1\" class=\"dataframe\">\n",
       "  <thead>\n",
       "    <tr style=\"text-align: right;\">\n",
       "      <th></th>\n",
       "      <th>Order ID</th>\n",
       "      <th>Product</th>\n",
       "      <th>Quantity Ordered</th>\n",
       "      <th>Price Each</th>\n",
       "      <th>Order Date</th>\n",
       "      <th>Purchase Address</th>\n",
       "      <th>Month</th>\n",
       "    </tr>\n",
       "  </thead>\n",
       "  <tbody>\n",
       "    <tr>\n",
       "      <th>0</th>\n",
       "      <td>295665</td>\n",
       "      <td>Macbook Pro Laptop</td>\n",
       "      <td>1</td>\n",
       "      <td>1700</td>\n",
       "      <td>12/30/19 00:01</td>\n",
       "      <td>136 Church St, New York City, NY 10001</td>\n",
       "      <td>12</td>\n",
       "    </tr>\n",
       "    <tr>\n",
       "      <th>1</th>\n",
       "      <td>295666</td>\n",
       "      <td>LG Washing Machine</td>\n",
       "      <td>1</td>\n",
       "      <td>600.0</td>\n",
       "      <td>12/29/19 07:03</td>\n",
       "      <td>562 2nd St, New York City, NY 10001</td>\n",
       "      <td>12</td>\n",
       "    </tr>\n",
       "    <tr>\n",
       "      <th>2</th>\n",
       "      <td>295667</td>\n",
       "      <td>USB-C Charging Cable</td>\n",
       "      <td>1</td>\n",
       "      <td>11.95</td>\n",
       "      <td>12/12/19 18:21</td>\n",
       "      <td>277 Main St, New York City, NY 10001</td>\n",
       "      <td>12</td>\n",
       "    </tr>\n",
       "    <tr>\n",
       "      <th>3</th>\n",
       "      <td>295668</td>\n",
       "      <td>27in FHD Monitor</td>\n",
       "      <td>1</td>\n",
       "      <td>149.99</td>\n",
       "      <td>12/22/19 15:13</td>\n",
       "      <td>410 6th St, San Francisco, CA 94016</td>\n",
       "      <td>12</td>\n",
       "    </tr>\n",
       "    <tr>\n",
       "      <th>4</th>\n",
       "      <td>295669</td>\n",
       "      <td>USB-C Charging Cable</td>\n",
       "      <td>1</td>\n",
       "      <td>11.95</td>\n",
       "      <td>12/18/19 12:38</td>\n",
       "      <td>43 Hill St, Atlanta, GA 30301</td>\n",
       "      <td>12</td>\n",
       "    </tr>\n",
       "  </tbody>\n",
       "</table>\n",
       "</div>"
      ],
      "text/plain": [
       "  Order ID               Product Quantity Ordered Price Each      Order Date  \\\n",
       "0   295665    Macbook Pro Laptop                1       1700  12/30/19 00:01   \n",
       "1   295666    LG Washing Machine                1      600.0  12/29/19 07:03   \n",
       "2   295667  USB-C Charging Cable                1      11.95  12/12/19 18:21   \n",
       "3   295668      27in FHD Monitor                1     149.99  12/22/19 15:13   \n",
       "4   295669  USB-C Charging Cable                1      11.95  12/18/19 12:38   \n",
       "\n",
       "                         Purchase Address  Month  \n",
       "0  136 Church St, New York City, NY 10001     12  \n",
       "1     562 2nd St, New York City, NY 10001     12  \n",
       "2    277 Main St, New York City, NY 10001     12  \n",
       "3     410 6th St, San Francisco, CA 94016     12  \n",
       "4           43 Hill St, Atlanta, GA 30301     12  "
      ]
     },
     "execution_count": 7,
     "metadata": {},
     "output_type": "execute_result"
    }
   ],
   "source": [
    "all_data['Month'] = all_data['Order Date'].str[0:2]\n",
    "all_data['Month'] = all_data['Month'].astype('int')\n",
    "all_data.head()"
   ]
  },
  {
   "cell_type": "markdown",
   "id": "666510b0-e025-4eb1-81df-1ac27ae0694d",
   "metadata": {},
   "source": [
    "#### ADD A SALES COLUMN"
   ]
  },
  {
   "cell_type": "code",
   "execution_count": 8,
   "id": "c1d4750b-be94-41be-ba8a-73fb84f67da6",
   "metadata": {},
   "outputs": [],
   "source": [
    "all_data['Price Each'] = all_data['Price Each'].astype('float')\n",
    "all_data['Quantity Ordered'] = all_data['Quantity Ordered'].astype('float')\n",
    "all_data['Sales'] = all_data['Price Each']*all_data['Quantity Ordered']\n"
   ]
  },
  {
   "cell_type": "markdown",
   "id": "67c17074-b872-4ef9-ae44-3cea935d8254",
   "metadata": {},
   "source": [
    "#### WHAT WAS THE BEST MONTH FOR SALES ? AND HOW MUCH WAS EARNED THAT MONTH ?"
   ]
  },
  {
   "cell_type": "code",
   "execution_count": 9,
   "id": "efb39592-9c06-4837-84c2-45dd78ce4004",
   "metadata": {},
   "outputs": [
    {
     "data": {
      "text/plain": [
       "\"monthly_data = all_data.groupby('Month')\\nmonthly_data['Sales'].sum\""
      ]
     },
     "execution_count": 9,
     "metadata": {},
     "output_type": "execute_result"
    }
   ],
   "source": [
    "'''monthly_data = all_data.groupby('Month')\n",
    "monthly_data['Sales'].sum'''\n",
    "\n"
   ]
  },
  {
   "cell_type": "code",
   "execution_count": 13,
   "id": "55e2db4d-eaff-4508-a3f5-5b81362ca546",
   "metadata": {},
   "outputs": [
    {
     "data": {
      "image/png": "[encoded data removed]",
      "text/plain": [
       "<Figure size 640x480 with 1 Axes>"
      ]
     },
     "metadata": {},
     "output_type": "display_data"
    }
   ],
   "source": [
    "results = all_data.groupby('Month').sum()\n",
    "months = range(1,13)\n",
    "plt.bar(months,results['Sales'])\n",
    "plt.xticks(months)\n",
    "plt.xlabel('Month Number')\n",
    "plt.ylabel('Sales in 10^6 usd')\n",
    "plt.show()"
   ]
  },
  {
   "cell_type": "markdown",
   "id": "5f292d5b-02ac-4404-857a-5097b7359f01",
   "metadata": {},
   "source": [
    "#### WHAT CITY HAD THE HIGHEST NUMBER OF SALES ?"
   ]
  },
  {
   "cell_type": "code",
   "execution_count": 19,
   "id": "2768e31b-e390-4e93-a879-bd954ce89b7e",
   "metadata": {},
   "outputs": [
    {
     "data": {
      "text/plain": [
       "City\n",
       "Atlanta  (GA)          2795498.58\n",
       "Austin  (TX)           1819581.75\n",
       "Boston  (MA)           3661642.01\n",
       "Dallas  (TX)           2767975.40\n",
       "Los Angeles  (CA)      5452570.80\n",
       "New York City  (NY)    4664317.43\n",
       "Portland  (ME)          449758.27\n",
       "Portland  (OR)         1870732.34\n",
       "San Francisco  (CA)    8262203.91\n",
       "Seattle  (WA)          2747755.48\n",
       "Name: Sales, dtype: float64"
      ]
     },
     "execution_count": 19,
     "metadata": {},
     "output_type": "execute_result"
    }
   ],
   "source": [
    "def get_city(address):\n",
    "    return address.split(\",\")[1].strip(\" \")\n",
    "\n",
    "def get_state(address):\n",
    "    return address.split(\",\")[2].split(\" \")[1]\n",
    "\n",
    "all_data['City'] = all_data['Purchase Address'].apply(lambda x: f\"{get_city(x)}  ({get_state(x)})\")\n",
    "all_data.head()\n",
    "\n",
    "city_data = all_data.groupby(['City']).sum()\n",
    "city_data['Sales']\n",
    "\n",
    "\n"
   ]
  },
  {
   "cell_type": "code",
   "execution_count": 21,
   "id": "3c55dab6-21e0-4be3-925b-bad9a544db13",
   "metadata": {},
   "outputs": [
    {
     "ename": "TypeError",
     "evalue": "unhashable type: 'numpy.ndarray'",
     "output_type": "error",
     "traceback": [
      "\u001b[0;31m---------------------------------------------------------------------------\u001b[0m",
      "\u001b[0;31mTypeError\u001b[0m                                 Traceback (most recent call last)",
      "Cell \u001b[0;32mIn[21], line 3\u001b[0m\n\u001b[1;32m      1\u001b[0m keys \u001b[38;5;241m=\u001b[39m [city \u001b[38;5;28;01mfor\u001b[39;00m city, df \u001b[38;5;129;01min\u001b[39;00m all_data\u001b[38;5;241m.\u001b[39mgroupby([\u001b[38;5;124m'\u001b[39m\u001b[38;5;124mCity\u001b[39m\u001b[38;5;124m'\u001b[39m])]\n\u001b[0;32m----> 3\u001b[0m \u001b[43mplt\u001b[49m\u001b[38;5;241;43m.\u001b[39;49m\u001b[43mbar\u001b[49m\u001b[43m(\u001b[49m\u001b[43mkeys\u001b[49m\u001b[43m,\u001b[49m\u001b[43mall_data\u001b[49m\u001b[38;5;241;43m.\u001b[39;49m\u001b[43mgroupby\u001b[49m\u001b[43m(\u001b[49m\u001b[43m[\u001b[49m\u001b[38;5;124;43m'\u001b[39;49m\u001b[38;5;124;43mCity\u001b[39;49m\u001b[38;5;124;43m'\u001b[39;49m\u001b[43m]\u001b[49m\u001b[43m)\u001b[49m\u001b[38;5;241;43m.\u001b[39;49m\u001b[43msum\u001b[49m\u001b[43m(\u001b[49m\u001b[43m)\u001b[49m\u001b[43m[\u001b[49m\u001b[38;5;124;43m'\u001b[39;49m\u001b[38;5;124;43mSales\u001b[39;49m\u001b[38;5;124;43m'\u001b[39;49m\u001b[43m]\u001b[49m\u001b[43m)\u001b[49m\n\u001b[1;32m      4\u001b[0m plt\u001b[38;5;241m.\u001b[39mylabel(\u001b[38;5;124m'\u001b[39m\u001b[38;5;124mSales in USD ($)\u001b[39m\u001b[38;5;124m'\u001b[39m)\n\u001b[1;32m      5\u001b[0m plt\u001b[38;5;241m.\u001b[39mxlabel(\u001b[38;5;124m'\u001b[39m\u001b[38;5;124mcity name\u001b[39m\u001b[38;5;124m'\u001b[39m)\n",
      "File \u001b[0;32m~/anaconda3/lib/python3.11/site-packages/matplotlib/pyplot.py:2754\u001b[0m, in \u001b[0;36mbar\u001b[0;34m(x, height, width, bottom, align, data, **kwargs)\u001b[0m\n\u001b[1;32m   2743\u001b[0m \u001b[38;5;129m@_copy_docstring_and_deprecators\u001b[39m(Axes\u001b[38;5;241m.\u001b[39mbar)\n\u001b[1;32m   2744\u001b[0m \u001b[38;5;28;01mdef\u001b[39;00m \u001b[38;5;21mbar\u001b[39m(\n\u001b[1;32m   2745\u001b[0m     x: \u001b[38;5;28mfloat\u001b[39m \u001b[38;5;241m|\u001b[39m ArrayLike,\n\u001b[0;32m   (...)\u001b[0m\n\u001b[1;32m   2752\u001b[0m     \u001b[38;5;241m*\u001b[39m\u001b[38;5;241m*\u001b[39mkwargs,\n\u001b[1;32m   2753\u001b[0m ) \u001b[38;5;241m-\u001b[39m\u001b[38;5;241m>\u001b[39m BarContainer:\n\u001b[0;32m-> 2754\u001b[0m     \u001b[38;5;28;01mreturn\u001b[39;00m \u001b[43mgca\u001b[49m\u001b[43m(\u001b[49m\u001b[43m)\u001b[49m\u001b[38;5;241;43m.\u001b[39;49m\u001b[43mbar\u001b[49m\u001b[43m(\u001b[49m\n\u001b[1;32m   2755\u001b[0m \u001b[43m        \u001b[49m\u001b[43mx\u001b[49m\u001b[43m,\u001b[49m\n\u001b[1;32m   2756\u001b[0m \u001b[43m        \u001b[49m\u001b[43mheight\u001b[49m\u001b[43m,\u001b[49m\n\u001b[1;32m   2757\u001b[0m \u001b[43m        \u001b[49m\u001b[43mwidth\u001b[49m\u001b[38;5;241;43m=\u001b[39;49m\u001b[43mwidth\u001b[49m\u001b[43m,\u001b[49m\n\u001b[1;32m   2758\u001b[0m \u001b[43m        \u001b[49m\u001b[43mbottom\u001b[49m\u001b[38;5;241;43m=\u001b[39;49m\u001b[43mbottom\u001b[49m\u001b[43m,\u001b[49m\n\u001b[1;32m   2759\u001b[0m \u001b[43m        \u001b[49m\u001b[43malign\u001b[49m\u001b[38;5;241;43m=\u001b[39;49m\u001b[43malign\u001b[49m\u001b[43m,\u001b[49m\n\u001b[1;32m   2760\u001b[0m \u001b[43m        \u001b[49m\u001b[38;5;241;43m*\u001b[39;49m\u001b[38;5;241;43m*\u001b[39;49m\u001b[43m(\u001b[49m\u001b[43m{\u001b[49m\u001b[38;5;124;43m\"\u001b[39;49m\u001b[38;5;124;43mdata\u001b[39;49m\u001b[38;5;124;43m\"\u001b[39;49m\u001b[43m:\u001b[49m\u001b[43m \u001b[49m\u001b[43mdata\u001b[49m\u001b[43m}\u001b[49m\u001b[43m \u001b[49m\u001b[38;5;28;43;01mif\u001b[39;49;00m\u001b[43m \u001b[49m\u001b[43mdata\u001b[49m\u001b[43m \u001b[49m\u001b[38;5;129;43;01mis\u001b[39;49;00m\u001b[43m \u001b[49m\u001b[38;5;129;43;01mnot\u001b[39;49;00m\u001b[43m \u001b[49m\u001b[38;5;28;43;01mNone\u001b[39;49;00m\u001b[43m \u001b[49m\u001b[38;5;28;43;01melse\u001b[39;49;00m\u001b[43m \u001b[49m\u001b[43m{\u001b[49m\u001b[43m}\u001b[49m\u001b[43m)\u001b[49m\u001b[43m,\u001b[49m\n\u001b[1;32m   2761\u001b[0m \u001b[43m        \u001b[49m\u001b[38;5;241;43m*\u001b[39;49m\u001b[38;5;241;43m*\u001b[39;49m\u001b[43mkwargs\u001b[49m\u001b[43m,\u001b[49m\n\u001b[1;32m   2762\u001b[0m \u001b[43m    \u001b[49m\u001b[43m)\u001b[49m\n",
      "File \u001b[0;32m~/anaconda3/lib/python3.11/site-packages/matplotlib/__init__.py:1465\u001b[0m, in \u001b[0;36m_preprocess_data.<locals>.inner\u001b[0;34m(ax, data, *args, **kwargs)\u001b[0m\n\u001b[1;32m   1462\u001b[0m \u001b[38;5;129m@functools\u001b[39m\u001b[38;5;241m.\u001b[39mwraps(func)\n\u001b[1;32m   1463\u001b[0m \u001b[38;5;28;01mdef\u001b[39;00m \u001b[38;5;21minner\u001b[39m(ax, \u001b[38;5;241m*\u001b[39margs, data\u001b[38;5;241m=\u001b[39m\u001b[38;5;28;01mNone\u001b[39;00m, \u001b[38;5;241m*\u001b[39m\u001b[38;5;241m*\u001b[39mkwargs):\n\u001b[1;32m   1464\u001b[0m     \u001b[38;5;28;01mif\u001b[39;00m data \u001b[38;5;129;01mis\u001b[39;00m \u001b[38;5;28;01mNone\u001b[39;00m:\n\u001b[0;32m-> 1465\u001b[0m         \u001b[38;5;28;01mreturn\u001b[39;00m \u001b[43mfunc\u001b[49m\u001b[43m(\u001b[49m\u001b[43max\u001b[49m\u001b[43m,\u001b[49m\u001b[43m \u001b[49m\u001b[38;5;241;43m*\u001b[39;49m\u001b[38;5;28;43mmap\u001b[39;49m\u001b[43m(\u001b[49m\u001b[43msanitize_sequence\u001b[49m\u001b[43m,\u001b[49m\u001b[43m \u001b[49m\u001b[43margs\u001b[49m\u001b[43m)\u001b[49m\u001b[43m,\u001b[49m\u001b[43m \u001b[49m\u001b[38;5;241;43m*\u001b[39;49m\u001b[38;5;241;43m*\u001b[39;49m\u001b[43mkwargs\u001b[49m\u001b[43m)\u001b[49m\n\u001b[1;32m   1467\u001b[0m     bound \u001b[38;5;241m=\u001b[39m new_sig\u001b[38;5;241m.\u001b[39mbind(ax, \u001b[38;5;241m*\u001b[39margs, \u001b[38;5;241m*\u001b[39m\u001b[38;5;241m*\u001b[39mkwargs)\n\u001b[1;32m   1468\u001b[0m     auto_label \u001b[38;5;241m=\u001b[39m (bound\u001b[38;5;241m.\u001b[39marguments\u001b[38;5;241m.\u001b[39mget(label_namer)\n\u001b[1;32m   1469\u001b[0m                   \u001b[38;5;129;01mor\u001b[39;00m bound\u001b[38;5;241m.\u001b[39mkwargs\u001b[38;5;241m.\u001b[39mget(label_namer))\n",
      "File \u001b[0;32m~/anaconda3/lib/python3.11/site-packages/matplotlib/axes/_axes.py:2433\u001b[0m, in \u001b[0;36mAxes.bar\u001b[0;34m(self, x, height, width, bottom, align, **kwargs)\u001b[0m\n\u001b[1;32m   2427\u001b[0m         x \u001b[38;5;241m=\u001b[39m \u001b[38;5;241m0\u001b[39m\n\u001b[1;32m   2429\u001b[0m \u001b[38;5;28;01mif\u001b[39;00m orientation \u001b[38;5;241m==\u001b[39m \u001b[38;5;124m'\u001b[39m\u001b[38;5;124mvertical\u001b[39m\u001b[38;5;124m'\u001b[39m:\n\u001b[1;32m   2430\u001b[0m     \u001b[38;5;66;03m# It is possible for y (bottom) to contain unit information.\u001b[39;00m\n\u001b[1;32m   2431\u001b[0m     \u001b[38;5;66;03m# However, it is also possible for y=0 for the default and height\u001b[39;00m\n\u001b[1;32m   2432\u001b[0m     \u001b[38;5;66;03m# to contain unit information.  This will prioritize the units of y.\u001b[39;00m\n\u001b[0;32m-> 2433\u001b[0m     \u001b[38;5;28;43mself\u001b[39;49m\u001b[38;5;241;43m.\u001b[39;49m\u001b[43m_process_unit_info\u001b[49m\u001b[43m(\u001b[49m\n\u001b[1;32m   2434\u001b[0m \u001b[43m        \u001b[49m\u001b[43m[\u001b[49m\u001b[43m(\u001b[49m\u001b[38;5;124;43m\"\u001b[39;49m\u001b[38;5;124;43mx\u001b[39;49m\u001b[38;5;124;43m\"\u001b[39;49m\u001b[43m,\u001b[49m\u001b[43m \u001b[49m\u001b[43mx\u001b[49m\u001b[43m)\u001b[49m\u001b[43m,\u001b[49m\u001b[43m \u001b[49m\u001b[43m(\u001b[49m\u001b[38;5;124;43m\"\u001b[39;49m\u001b[38;5;124;43my\u001b[39;49m\u001b[38;5;124;43m\"\u001b[39;49m\u001b[43m,\u001b[49m\u001b[43m \u001b[49m\u001b[43my\u001b[49m\u001b[43m)\u001b[49m\u001b[43m,\u001b[49m\u001b[43m \u001b[49m\u001b[43m(\u001b[49m\u001b[38;5;124;43m\"\u001b[39;49m\u001b[38;5;124;43my\u001b[39;49m\u001b[38;5;124;43m\"\u001b[39;49m\u001b[43m,\u001b[49m\u001b[43m \u001b[49m\u001b[43mheight\u001b[49m\u001b[43m)\u001b[49m\u001b[43m]\u001b[49m\u001b[43m,\u001b[49m\u001b[43m \u001b[49m\u001b[43mkwargs\u001b[49m\u001b[43m,\u001b[49m\u001b[43m \u001b[49m\u001b[43mconvert\u001b[49m\u001b[38;5;241;43m=\u001b[39;49m\u001b[38;5;28;43;01mFalse\u001b[39;49;00m\u001b[43m)\u001b[49m\n\u001b[1;32m   2435\u001b[0m     \u001b[38;5;28;01mif\u001b[39;00m log:\n\u001b[1;32m   2436\u001b[0m         \u001b[38;5;28mself\u001b[39m\u001b[38;5;241m.\u001b[39mset_yscale(\u001b[38;5;124m'\u001b[39m\u001b[38;5;124mlog\u001b[39m\u001b[38;5;124m'\u001b[39m, nonpositive\u001b[38;5;241m=\u001b[39m\u001b[38;5;124m'\u001b[39m\u001b[38;5;124mclip\u001b[39m\u001b[38;5;124m'\u001b[39m)\n",
      "File \u001b[0;32m~/anaconda3/lib/python3.11/site-packages/matplotlib/axes/_base.py:2555\u001b[0m, in \u001b[0;36m_AxesBase._process_unit_info\u001b[0;34m(self, datasets, kwargs, convert)\u001b[0m\n\u001b[1;32m   2553\u001b[0m     \u001b[38;5;66;03m# Update from data if axis is already set but no unit is set yet.\u001b[39;00m\n\u001b[1;32m   2554\u001b[0m     \u001b[38;5;28;01mif\u001b[39;00m axis \u001b[38;5;129;01mis\u001b[39;00m \u001b[38;5;129;01mnot\u001b[39;00m \u001b[38;5;28;01mNone\u001b[39;00m \u001b[38;5;129;01mand\u001b[39;00m data \u001b[38;5;129;01mis\u001b[39;00m \u001b[38;5;129;01mnot\u001b[39;00m \u001b[38;5;28;01mNone\u001b[39;00m \u001b[38;5;129;01mand\u001b[39;00m \u001b[38;5;129;01mnot\u001b[39;00m axis\u001b[38;5;241m.\u001b[39mhave_units():\n\u001b[0;32m-> 2555\u001b[0m         \u001b[43maxis\u001b[49m\u001b[38;5;241;43m.\u001b[39;49m\u001b[43mupdate_units\u001b[49m\u001b[43m(\u001b[49m\u001b[43mdata\u001b[49m\u001b[43m)\u001b[49m\n\u001b[1;32m   2556\u001b[0m \u001b[38;5;28;01mfor\u001b[39;00m axis_name, axis \u001b[38;5;129;01min\u001b[39;00m axis_map\u001b[38;5;241m.\u001b[39mitems():\n\u001b[1;32m   2557\u001b[0m     \u001b[38;5;66;03m# Return if no axis is set.\u001b[39;00m\n\u001b[1;32m   2558\u001b[0m     \u001b[38;5;28;01mif\u001b[39;00m axis \u001b[38;5;129;01mis\u001b[39;00m \u001b[38;5;28;01mNone\u001b[39;00m:\n",
      "File \u001b[0;32m~/anaconda3/lib/python3.11/site-packages/matplotlib/axis.py:1712\u001b[0m, in \u001b[0;36mAxis.update_units\u001b[0;34m(self, data)\u001b[0m\n\u001b[1;32m   1710\u001b[0m neednew \u001b[38;5;241m=\u001b[39m \u001b[38;5;28mself\u001b[39m\u001b[38;5;241m.\u001b[39mconverter \u001b[38;5;241m!=\u001b[39m converter\n\u001b[1;32m   1711\u001b[0m \u001b[38;5;28mself\u001b[39m\u001b[38;5;241m.\u001b[39mconverter \u001b[38;5;241m=\u001b[39m converter\n\u001b[0;32m-> 1712\u001b[0m default \u001b[38;5;241m=\u001b[39m \u001b[38;5;28;43mself\u001b[39;49m\u001b[38;5;241;43m.\u001b[39;49m\u001b[43mconverter\u001b[49m\u001b[38;5;241;43m.\u001b[39;49m\u001b[43mdefault_units\u001b[49m\u001b[43m(\u001b[49m\u001b[43mdata\u001b[49m\u001b[43m,\u001b[49m\u001b[43m \u001b[49m\u001b[38;5;28;43mself\u001b[39;49m\u001b[43m)\u001b[49m\n\u001b[1;32m   1713\u001b[0m \u001b[38;5;28;01mif\u001b[39;00m default \u001b[38;5;129;01mis\u001b[39;00m \u001b[38;5;129;01mnot\u001b[39;00m \u001b[38;5;28;01mNone\u001b[39;00m \u001b[38;5;129;01mand\u001b[39;00m \u001b[38;5;28mself\u001b[39m\u001b[38;5;241m.\u001b[39munits \u001b[38;5;129;01mis\u001b[39;00m \u001b[38;5;28;01mNone\u001b[39;00m:\n\u001b[1;32m   1714\u001b[0m     \u001b[38;5;28mself\u001b[39m\u001b[38;5;241m.\u001b[39mset_units(default)\n",
      "File \u001b[0;32m~/anaconda3/lib/python3.11/site-packages/matplotlib/category.py:105\u001b[0m, in \u001b[0;36mStrCategoryConverter.default_units\u001b[0;34m(data, axis)\u001b[0m\n\u001b[1;32m    103\u001b[0m \u001b[38;5;66;03m# the conversion call stack is default_units -> axis_info -> convert\u001b[39;00m\n\u001b[1;32m    104\u001b[0m \u001b[38;5;28;01mif\u001b[39;00m axis\u001b[38;5;241m.\u001b[39munits \u001b[38;5;129;01mis\u001b[39;00m \u001b[38;5;28;01mNone\u001b[39;00m:\n\u001b[0;32m--> 105\u001b[0m     axis\u001b[38;5;241m.\u001b[39mset_units(\u001b[43mUnitData\u001b[49m\u001b[43m(\u001b[49m\u001b[43mdata\u001b[49m\u001b[43m)\u001b[49m)\n\u001b[1;32m    106\u001b[0m \u001b[38;5;28;01melse\u001b[39;00m:\n\u001b[1;32m    107\u001b[0m     axis\u001b[38;5;241m.\u001b[39munits\u001b[38;5;241m.\u001b[39mupdate(data)\n",
      "File \u001b[0;32m~/anaconda3/lib/python3.11/site-packages/matplotlib/category.py:181\u001b[0m, in \u001b[0;36mUnitData.__init__\u001b[0;34m(self, data)\u001b[0m\n\u001b[1;32m    179\u001b[0m \u001b[38;5;28mself\u001b[39m\u001b[38;5;241m.\u001b[39m_counter \u001b[38;5;241m=\u001b[39m itertools\u001b[38;5;241m.\u001b[39mcount()\n\u001b[1;32m    180\u001b[0m \u001b[38;5;28;01mif\u001b[39;00m data \u001b[38;5;129;01mis\u001b[39;00m \u001b[38;5;129;01mnot\u001b[39;00m \u001b[38;5;28;01mNone\u001b[39;00m:\n\u001b[0;32m--> 181\u001b[0m     \u001b[38;5;28;43mself\u001b[39;49m\u001b[38;5;241;43m.\u001b[39;49m\u001b[43mupdate\u001b[49m\u001b[43m(\u001b[49m\u001b[43mdata\u001b[49m\u001b[43m)\u001b[49m\n",
      "File \u001b[0;32m~/anaconda3/lib/python3.11/site-packages/matplotlib/category.py:214\u001b[0m, in \u001b[0;36mUnitData.update\u001b[0;34m(self, data)\u001b[0m\n\u001b[1;32m    212\u001b[0m \u001b[38;5;66;03m# check if convertible to number:\u001b[39;00m\n\u001b[1;32m    213\u001b[0m convertible \u001b[38;5;241m=\u001b[39m \u001b[38;5;28;01mTrue\u001b[39;00m\n\u001b[0;32m--> 214\u001b[0m \u001b[38;5;28;01mfor\u001b[39;00m val \u001b[38;5;129;01min\u001b[39;00m \u001b[43mOrderedDict\u001b[49m\u001b[38;5;241;43m.\u001b[39;49m\u001b[43mfromkeys\u001b[49m\u001b[43m(\u001b[49m\u001b[43mdata\u001b[49m\u001b[43m)\u001b[49m:\n\u001b[1;32m    215\u001b[0m     \u001b[38;5;66;03m# OrderedDict just iterates over unique values in data.\u001b[39;00m\n\u001b[1;32m    216\u001b[0m     _api\u001b[38;5;241m.\u001b[39mcheck_isinstance((\u001b[38;5;28mstr\u001b[39m, \u001b[38;5;28mbytes\u001b[39m), value\u001b[38;5;241m=\u001b[39mval)\n\u001b[1;32m    217\u001b[0m     \u001b[38;5;28;01mif\u001b[39;00m convertible:\n\u001b[1;32m    218\u001b[0m         \u001b[38;5;66;03m# this will only be called so long as convertible is True.\u001b[39;00m\n",
      "\u001b[0;31mTypeError\u001b[0m: unhashable type: 'numpy.ndarray'"
     ]
    },
    {
     "data": {
      "image/png": "[encoded data removed]",
      "text/plain": [
       "<Figure size 640x480 with 1 Axes>"
      ]
     },
     "metadata": {},
     "output_type": "display_data"
    }
   ],
   "source": [
    "keys = [city for city, df in all_data.groupby(['City'])]\n",
    "\n",
    "plt.bar(keys,all_data.groupby(['City']).sum()['Sales'])\n",
    "plt.ylabel('Sales in USD ($)')\n",
    "plt.xlabel('city name')\n",
    "plt.xticks(keys, rotation='vertical', size=8)\n",
    "plt.show()"
   ]
  },
  {
   "cell_type": "code",
   "execution_count": null,
   "id": "9e6e2279-53a0-4dc5-a32f-8246b6c39ea2",
   "metadata": {},
   "outputs": [],
   "source": []
  }
 ],
 "metadata": {
  "kernelspec": {
   "display_name": "Python 3 (ipykernel)",
   "language": "python",
   "name": "python3"
  },
  "language_info": {
   "codemirror_mode": {
    "name": "ipython",
    "version": 3
   },
   "file_extension": ".py",
   "mimetype": "text/x-python",
   "name": "python",
   "nbconvert_exporter": "python",
   "pygments_lexer": "ipython3",
   "version": "3.11.5"
  }
 },
 "nbformat": 4,
 "nbformat_minor": 5
}
